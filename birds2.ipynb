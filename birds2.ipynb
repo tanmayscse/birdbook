{
 "nbformat": 4,
 "nbformat_minor": 0,
 "metadata": {
  "colab": {
   "provenance": []
  },
  "kernelspec": {
   "name": "python3",
   "display_name": "Python 3"
  },
  "accelerator": "GPU",
  "widgets": {
   "application/vnd.jupyter.widget-state+json": {
    "aa42b91f801541d3a3b6b56912530128": {
     "model_module": "@jupyter-widgets/controls",
     "model_name": "HBoxModel",
     "model_module_version": "1.5.0",
     "state": {
      "_dom_classes": [],
      "_model_module": "@jupyter-widgets/controls",
      "_model_module_version": "1.5.0",
      "_model_name": "HBoxModel",
      "_view_count": null,
      "_view_module": "@jupyter-widgets/controls",
      "_view_module_version": "1.5.0",
      "_view_name": "HBoxView",
      "box_style": "",
      "children": [
       "IPY_MODEL_b7e1acebdea44d31830df5719d5be8b3",
       "IPY_MODEL_c39afd7795c94ca4b2df497db88eae77",
       "IPY_MODEL_409bbf188117406b821237c9c64539c3"
      ],
      "layout": "IPY_MODEL_f58a6fc240534a00888f52c52ba62cf8"
     }
    },
    "b7e1acebdea44d31830df5719d5be8b3": {
     "model_module": "@jupyter-widgets/controls",
     "model_name": "HTMLModel",
     "model_module_version": "1.5.0",
     "state": {
      "_dom_classes": [],
      "_model_module": "@jupyter-widgets/controls",
      "_model_module_version": "1.5.0",
      "_model_name": "HTMLModel",
      "_view_count": null,
      "_view_module": "@jupyter-widgets/controls",
      "_view_module_version": "1.5.0",
      "_view_name": "HTMLView",
      "description": "",
      "description_tooltip": null,
      "layout": "IPY_MODEL_8222d21ef4f046d58f5c401090e31071",
      "placeholder": "​",
      "style": "IPY_MODEL_b5060355a3444156bf59cef012ecc811",
      "value": "100%"
     }
    },
    "c39afd7795c94ca4b2df497db88eae77": {
     "model_module": "@jupyter-widgets/controls",
     "model_name": "FloatProgressModel",
     "model_module_version": "1.5.0",
     "state": {
      "_dom_classes": [],
      "_model_module": "@jupyter-widgets/controls",
      "_model_module_version": "1.5.0",
      "_model_name": "FloatProgressModel",
      "_view_count": null,
      "_view_module": "@jupyter-widgets/controls",
      "_view_module_version": "1.5.0",
      "_view_name": "ProgressView",
      "bar_style": "success",
      "description": "",
      "description_tooltip": null,
      "layout": "IPY_MODEL_326bb84d585e4b59bccb4cb66a44d5bd",
      "max": 46830571,
      "min": 0,
      "orientation": "horizontal",
      "style": "IPY_MODEL_5974701a2d1d41848d7fdf4a868dff59",
      "value": 46830571
     }
    },
    "409bbf188117406b821237c9c64539c3": {
     "model_module": "@jupyter-widgets/controls",
     "model_name": "HTMLModel",
     "model_module_version": "1.5.0",
     "state": {
      "_dom_classes": [],
      "_model_module": "@jupyter-widgets/controls",
      "_model_module_version": "1.5.0",
      "_model_name": "HTMLModel",
      "_view_count": null,
      "_view_module": "@jupyter-widgets/controls",
      "_view_module_version": "1.5.0",
      "_view_name": "HTMLView",
      "description": "",
      "description_tooltip": null,
      "layout": "IPY_MODEL_656430f8f7e8441280e60839b75512df",
      "placeholder": "​",
      "style": "IPY_MODEL_ffbbd48e9c3a445288c880e4e35d7e2e",
      "value": " 44.7M/44.7M [00:00&lt;00:00, 71.0MB/s]"
     }
    },
    "f58a6fc240534a00888f52c52ba62cf8": {
     "model_module": "@jupyter-widgets/base",
     "model_name": "LayoutModel",
     "model_module_version": "1.2.0",
     "state": {
      "_model_module": "@jupyter-widgets/base",
      "_model_module_version": "1.2.0",
      "_model_name": "LayoutModel",
      "_view_count": null,
      "_view_module": "@jupyter-widgets/base",
      "_view_module_version": "1.2.0",
      "_view_name": "LayoutView",
      "align_content": null,
      "align_items": null,
      "align_self": null,
      "border": null,
      "bottom": null,
      "display": null,
      "flex": null,
      "flex_flow": null,
      "grid_area": null,
      "grid_auto_columns": null,
      "grid_auto_flow": null,
      "grid_auto_rows": null,
      "grid_column": null,
      "grid_gap": null,
      "grid_row": null,
      "grid_template_areas": null,
      "grid_template_columns": null,
      "grid_template_rows": null,
      "height": null,
      "justify_content": null,
      "justify_items": null,
      "left": null,
      "margin": null,
      "max_height": null,
      "max_width": null,
      "min_height": null,
      "min_width": null,
      "object_fit": null,
      "object_position": null,
      "order": null,
      "overflow": null,
      "overflow_x": null,
      "overflow_y": null,
      "padding": null,
      "right": null,
      "top": null,
      "visibility": null,
      "width": null
     }
    },
    "8222d21ef4f046d58f5c401090e31071": {
     "model_module": "@jupyter-widgets/base",
     "model_name": "LayoutModel",
     "model_module_version": "1.2.0",
     "state": {
      "_model_module": "@jupyter-widgets/base",
      "_model_module_version": "1.2.0",
      "_model_name": "LayoutModel",
      "_view_count": null,
      "_view_module": "@jupyter-widgets/base",
      "_view_module_version": "1.2.0",
      "_view_name": "LayoutView",
      "align_content": null,
      "align_items": null,
      "align_self": null,
      "border": null,
      "bottom": null,
      "display": null,
      "flex": null,
      "flex_flow": null,
      "grid_area": null,
      "grid_auto_columns": null,
      "grid_auto_flow": null,
      "grid_auto_rows": null,
      "grid_column": null,
      "grid_gap": null,
      "grid_row": null,
      "grid_template_areas": null,
      "grid_template_columns": null,
      "grid_template_rows": null,
      "height": null,
      "justify_content": null,
      "justify_items": null,
      "left": null,
      "margin": null,
      "max_height": null,
      "max_width": null,
      "min_height": null,
      "min_width": null,
      "object_fit": null,
      "object_position": null,
      "order": null,
      "overflow": null,
      "overflow_x": null,
      "overflow_y": null,
      "padding": null,
      "right": null,
      "top": null,
      "visibility": null,
      "width": null
     }
    },
    "b5060355a3444156bf59cef012ecc811": {
     "model_module": "@jupyter-widgets/controls",
     "model_name": "DescriptionStyleModel",
     "model_module_version": "1.5.0",
     "state": {
      "_model_module": "@jupyter-widgets/controls",
      "_model_module_version": "1.5.0",
      "_model_name": "DescriptionStyleModel",
      "_view_count": null,
      "_view_module": "@jupyter-widgets/base",
      "_view_module_version": "1.2.0",
      "_view_name": "StyleView",
      "description_width": ""
     }
    },
    "326bb84d585e4b59bccb4cb66a44d5bd": {
     "model_module": "@jupyter-widgets/base",
     "model_name": "LayoutModel",
     "model_module_version": "1.2.0",
     "state": {
      "_model_module": "@jupyter-widgets/base",
      "_model_module_version": "1.2.0",
      "_model_name": "LayoutModel",
      "_view_count": null,
      "_view_module": "@jupyter-widgets/base",
      "_view_module_version": "1.2.0",
      "_view_name": "LayoutView",
      "align_content": null,
      "align_items": null,
      "align_self": null,
      "border": null,
      "bottom": null,
      "display": null,
      "flex": null,
      "flex_flow": null,
      "grid_area": null,
      "grid_auto_columns": null,
      "grid_auto_flow": null,
      "grid_auto_rows": null,
      "grid_column": null,
      "grid_gap": null,
      "grid_row": null,
      "grid_template_areas": null,
      "grid_template_columns": null,
      "grid_template_rows": null,
      "height": null,
      "justify_content": null,
      "justify_items": null,
      "left": null,
      "margin": null,
      "max_height": null,
      "max_width": null,
      "min_height": null,
      "min_width": null,
      "object_fit": null,
      "object_position": null,
      "order": null,
      "overflow": null,
      "overflow_x": null,
      "overflow_y": null,
      "padding": null,
      "right": null,
      "top": null,
      "visibility": null,
      "width": null
     }
    },
    "5974701a2d1d41848d7fdf4a868dff59": {
     "model_module": "@jupyter-widgets/controls",
     "model_name": "ProgressStyleModel",
     "model_module_version": "1.5.0",
     "state": {
      "_model_module": "@jupyter-widgets/controls",
      "_model_module_version": "1.5.0",
      "_model_name": "ProgressStyleModel",
      "_view_count": null,
      "_view_module": "@jupyter-widgets/base",
      "_view_module_version": "1.2.0",
      "_view_name": "StyleView",
      "bar_color": null,
      "description_width": ""
     }
    },
    "656430f8f7e8441280e60839b75512df": {
     "model_module": "@jupyter-widgets/base",
     "model_name": "LayoutModel",
     "model_module_version": "1.2.0",
     "state": {
      "_model_module": "@jupyter-widgets/base",
      "_model_module_version": "1.2.0",
      "_model_name": "LayoutModel",
      "_view_count": null,
      "_view_module": "@jupyter-widgets/base",
      "_view_module_version": "1.2.0",
      "_view_name": "LayoutView",
      "align_content": null,
      "align_items": null,
      "align_self": null,
      "border": null,
      "bottom": null,
      "display": null,
      "flex": null,
      "flex_flow": null,
      "grid_area": null,
      "grid_auto_columns": null,
      "grid_auto_flow": null,
      "grid_auto_rows": null,
      "grid_column": null,
      "grid_gap": null,
      "grid_row": null,
      "grid_template_areas": null,
      "grid_template_columns": null,
      "grid_template_rows": null,
      "height": null,
      "justify_content": null,
      "justify_items": null,
      "left": null,
      "margin": null,
      "max_height": null,
      "max_width": null,
      "min_height": null,
      "min_width": null,
      "object_fit": null,
      "object_position": null,
      "order": null,
      "overflow": null,
      "overflow_x": null,
      "overflow_y": null,
      "padding": null,
      "right": null,
      "top": null,
      "visibility": null,
      "width": null
     }
    },
    "ffbbd48e9c3a445288c880e4e35d7e2e": {
     "model_module": "@jupyter-widgets/controls",
     "model_name": "DescriptionStyleModel",
     "model_module_version": "1.5.0",
     "state": {
      "_model_module": "@jupyter-widgets/controls",
      "_model_module_version": "1.5.0",
      "_model_name": "DescriptionStyleModel",
      "_view_count": null,
      "_view_module": "@jupyter-widgets/base",
      "_view_module_version": "1.2.0",
      "_view_name": "StyleView",
      "description_width": ""
     }
    }
   }
  }
 },
 "cells": [
  {
   "cell_type": "code",
   "metadata": {
    "colab": {
     "base_uri": "https://localhost:8080/"
    },
    "id": "yRzPDiVzsyGz",
    "outputId": "8b5b6e9a-f37b-4d2e-f76d-3dd36b33fab4"
   },
   "source": [
    "import numpy as np\n",
    "import matplotlib.pyplot as plt\n",
    "\n",
    "import torch\n",
    "import torchvision\n",
    "import torchvision.models as models\n",
    "import torchvision.transforms as transforms\n",
    "import torch.nn as nn\n",
    "import torch.nn.functional as F\n",
    "import torch.optim as optim\n",
    "\n",
    "from torchvision.models import resnet101, ResNet101_Weights\n",
    "from torchvision.models import resnet50, ResNet50_Weights\n",
    "from torchvision.models import efficientnet_b0, EfficientNet_B0_Weights\n",
    "\n",
    "device = torch.device(\"cuda:0\" if torch.cuda.is_available() else \"cpu\")\n",
    "print(device)"
   ],
   "execution_count": 71,
   "outputs": [
    {
     "name": "stdout",
     "output_type": "stream",
     "text": [
      "cpu\n"
     ]
    }
   ]
  },
  {
   "cell_type": "code",
   "metadata": {
    "colab": {
     "base_uri": "https://localhost:8080/"
    },
    "id": "zS5Ch2HbC6Gb",
    "outputId": "4e342d1b-4e42-4ef1-f749-72d01194a95c"
   },
   "source": [
    "import os\n",
    "# from google.colab import drive\n",
    "# drive.mount('/content/drive')\n",
    "checkpoints = 'checkpoints'\n",
    "if not os.path.exists(checkpoints):\n",
    "    os.makedirs(checkpoints)"
   ],
   "execution_count": 72,
   "outputs": []
  },
  {
   "cell_type": "code",
   "metadata": {
    "id": "fYJ6ZE1CuGth",
    "colab": {
     "base_uri": "https://localhost:8080/"
    },
    "outputId": "04768c1d-5523-4459-d454-5c51f8baccd3"
   },
   "source": [
    "import os\n",
    "if not os.path.exists('data'):\n",
    "    raise ModuleNotFoundError"
   ],
   "execution_count": 73,
   "outputs": []
  },
  {
   "cell_type": "code",
   "metadata": {
    "id": "-sNQBsQiszKj"
   },
   "source": [
    "def get_bird_data(augmentation=0):\n",
    "    transform_train = transforms.Compose([\n",
    "        transforms.Resize(128),\n",
    "        transforms.RandomCrop(128, padding=8, padding_mode='edge'), # Take 128x128 crops from padded images\n",
    "        transforms.RandomHorizontalFlip(),    # 50% of time flip image along y-axis\n",
    "        transforms.ToTensor(),\n",
    "    ])\n",
    "    \n",
    "    transform_test = transforms.Compose([\n",
    "        transforms.Resize(128),\n",
    "        transforms.ToTensor(),\n",
    "    ])\n",
    "    trainset = torchvision.datasets.ImageFolder(root='data/train', transform=transform_train)\n",
    "    trainloader = torch.utils.data.DataLoader(trainset, batch_size=128, shuffle=True, num_workers=2)\n",
    "\n",
    "    testset = torchvision.datasets.ImageFolder(root='data/test', transform=transform_test)\n",
    "    testloader = torch.utils.data.DataLoader(testset, batch_size=1, shuffle=False, num_workers=5)\n",
    "    classes = open(\"data/names.txt\").read().strip().split(\"\\n\")\n",
    "    class_to_idx = trainset.class_to_idx\n",
    "    idx_to_class = {int(v): int(k) for k, v in class_to_idx.items()}\n",
    "    idx_to_name = {k: classes[v] for k,v in idx_to_class.items()}\n",
    "    return {'train': trainloader, 'test': testloader, 'to_class': idx_to_class, 'to_name':idx_to_name}\n",
    "\n",
    "data = get_bird_data()"
   ],
   "execution_count": 74,
   "outputs": []
  },
  {
   "cell_type": "code",
   "source": [
    "print(len(data['to_name']))"
   ],
   "metadata": {
    "colab": {
     "base_uri": "https://localhost:8080/"
    },
    "id": "iZR48C7F69Gi",
    "outputId": "89f350bf-a70b-41b4-f64b-ec3a230d1d2f"
   },
   "execution_count": 75,
   "outputs": [
    {
     "name": "stdout",
     "output_type": "stream",
     "text": [
      "555\n"
     ]
    }
   ]
  },
  {
   "cell_type": "code",
   "metadata": {
    "colab": {
     "base_uri": "https://localhost:8080/"
    },
    "id": "yGbbBNQVaO6G",
    "outputId": "4bfc8067-affa-4022-b1d9-20590cbd131d"
   },
   "source": [
    "print(data['to_class'])\n",
    "print(data['to_name'])"
   ],
   "execution_count": 76,
   "outputs": [
    {
     "name": "stdout",
     "output_type": "stream",
     "text": [
      "{0: 0, 1: 1, 2: 10, 3: 100, 4: 101, 5: 102, 6: 103, 7: 104, 8: 105, 9: 106, 10: 107, 11: 108, 12: 109, 13: 11, 14: 110, 15: 111, 16: 112, 17: 113, 18: 114, 19: 115, 20: 116, 21: 117, 22: 118, 23: 119, 24: 12, 25: 120, 26: 121, 27: 122, 28: 123, 29: 124, 30: 125, 31: 126, 32: 127, 33: 128, 34: 129, 35: 13, 36: 130, 37: 131, 38: 132, 39: 133, 40: 134, 41: 135, 42: 136, 43: 137, 44: 138, 45: 139, 46: 14, 47: 140, 48: 141, 49: 142, 50: 143, 51: 144, 52: 145, 53: 146, 54: 147, 55: 148, 56: 149, 57: 15, 58: 150, 59: 151, 60: 152, 61: 153, 62: 154, 63: 155, 64: 156, 65: 157, 66: 158, 67: 159, 68: 16, 69: 160, 70: 161, 71: 162, 72: 163, 73: 164, 74: 165, 75: 166, 76: 167, 77: 168, 78: 169, 79: 17, 80: 170, 81: 171, 82: 172, 83: 173, 84: 174, 85: 175, 86: 176, 87: 177, 88: 178, 89: 179, 90: 18, 91: 180, 92: 181, 93: 182, 94: 183, 95: 184, 96: 185, 97: 186, 98: 187, 99: 188, 100: 189, 101: 19, 102: 190, 103: 191, 104: 192, 105: 193, 106: 194, 107: 195, 108: 196, 109: 197, 110: 198, 111: 199, 112: 2, 113: 20, 114: 200, 115: 201, 116: 202, 117: 203, 118: 204, 119: 205, 120: 206, 121: 207, 122: 208, 123: 209, 124: 21, 125: 210, 126: 211, 127: 212, 128: 213, 129: 214, 130: 215, 131: 216, 132: 217, 133: 218, 134: 219, 135: 22, 136: 220, 137: 221, 138: 222, 139: 223, 140: 224, 141: 225, 142: 226, 143: 227, 144: 228, 145: 229, 146: 23, 147: 230, 148: 231, 149: 232, 150: 233, 151: 234, 152: 235, 153: 236, 154: 237, 155: 238, 156: 239, 157: 24, 158: 240, 159: 241, 160: 242, 161: 243, 162: 244, 163: 245, 164: 246, 165: 247, 166: 248, 167: 249, 168: 25, 169: 250, 170: 251, 171: 252, 172: 253, 173: 254, 174: 255, 175: 256, 176: 257, 177: 258, 178: 259, 179: 26, 180: 260, 181: 261, 182: 262, 183: 263, 184: 264, 185: 265, 186: 266, 187: 267, 188: 268, 189: 269, 190: 27, 191: 270, 192: 271, 193: 272, 194: 273, 195: 274, 196: 275, 197: 276, 198: 277, 199: 278, 200: 279, 201: 28, 202: 280, 203: 281, 204: 282, 205: 283, 206: 284, 207: 285, 208: 286, 209: 287, 210: 288, 211: 289, 212: 29, 213: 290, 214: 291, 215: 292, 216: 293, 217: 294, 218: 295, 219: 296, 220: 297, 221: 298, 222: 299, 223: 3, 224: 30, 225: 300, 226: 301, 227: 302, 228: 303, 229: 304, 230: 305, 231: 306, 232: 307, 233: 308, 234: 309, 235: 31, 236: 310, 237: 311, 238: 312, 239: 313, 240: 314, 241: 315, 242: 316, 243: 317, 244: 318, 245: 319, 246: 32, 247: 320, 248: 321, 249: 322, 250: 323, 251: 324, 252: 325, 253: 326, 254: 327, 255: 328, 256: 329, 257: 33, 258: 330, 259: 331, 260: 332, 261: 333, 262: 334, 263: 335, 264: 336, 265: 337, 266: 338, 267: 339, 268: 34, 269: 340, 270: 341, 271: 342, 272: 343, 273: 344, 274: 345, 275: 346, 276: 347, 277: 348, 278: 349, 279: 35, 280: 350, 281: 351, 282: 352, 283: 353, 284: 354, 285: 355, 286: 356, 287: 357, 288: 358, 289: 359, 290: 36, 291: 360, 292: 361, 293: 362, 294: 363, 295: 364, 296: 365, 297: 366, 298: 367, 299: 368, 300: 369, 301: 37, 302: 370, 303: 371, 304: 372, 305: 373, 306: 374, 307: 375, 308: 376, 309: 377, 310: 378, 311: 379, 312: 38, 313: 380, 314: 381, 315: 382, 316: 383, 317: 384, 318: 385, 319: 386, 320: 387, 321: 388, 322: 389, 323: 39, 324: 390, 325: 391, 326: 392, 327: 393, 328: 394, 329: 395, 330: 396, 331: 397, 332: 398, 333: 399, 334: 4, 335: 40, 336: 400, 337: 401, 338: 402, 339: 403, 340: 404, 341: 405, 342: 406, 343: 407, 344: 408, 345: 409, 346: 41, 347: 410, 348: 411, 349: 412, 350: 413, 351: 414, 352: 415, 353: 416, 354: 417, 355: 418, 356: 419, 357: 42, 358: 420, 359: 421, 360: 422, 361: 423, 362: 424, 363: 425, 364: 426, 365: 427, 366: 428, 367: 429, 368: 43, 369: 430, 370: 431, 371: 432, 372: 433, 373: 434, 374: 435, 375: 436, 376: 437, 377: 438, 378: 439, 379: 44, 380: 440, 381: 441, 382: 442, 383: 443, 384: 444, 385: 445, 386: 446, 387: 447, 388: 448, 389: 449, 390: 45, 391: 450, 392: 451, 393: 452, 394: 453, 395: 454, 396: 455, 397: 456, 398: 457, 399: 458, 400: 459, 401: 46, 402: 460, 403: 461, 404: 462, 405: 463, 406: 464, 407: 465, 408: 466, 409: 467, 410: 468, 411: 469, 412: 47, 413: 470, 414: 471, 415: 472, 416: 473, 417: 474, 418: 475, 419: 476, 420: 477, 421: 478, 422: 479, 423: 48, 424: 480, 425: 481, 426: 482, 427: 483, 428: 484, 429: 485, 430: 486, 431: 487, 432: 488, 433: 489, 434: 49, 435: 490, 436: 491, 437: 492, 438: 493, 439: 494, 440: 495, 441: 496, 442: 497, 443: 498, 444: 499, 445: 5, 446: 50, 447: 500, 448: 501, 449: 502, 450: 503, 451: 504, 452: 505, 453: 506, 454: 507, 455: 508, 456: 509, 457: 51, 458: 510, 459: 511, 460: 512, 461: 513, 462: 514, 463: 515, 464: 516, 465: 517, 466: 518, 467: 519, 468: 52, 469: 520, 470: 521, 471: 522, 472: 523, 473: 524, 474: 525, 475: 526, 476: 527, 477: 528, 478: 529, 479: 53, 480: 530, 481: 531, 482: 532, 483: 533, 484: 534, 485: 535, 486: 536, 487: 537, 488: 538, 489: 539, 490: 54, 491: 540, 492: 541, 493: 542, 494: 543, 495: 544, 496: 545, 497: 546, 498: 547, 499: 548, 500: 549, 501: 55, 502: 550, 503: 551, 504: 552, 505: 553, 506: 554, 507: 56, 508: 57, 509: 58, 510: 59, 511: 6, 512: 60, 513: 61, 514: 62, 515: 63, 516: 64, 517: 65, 518: 66, 519: 67, 520: 68, 521: 69, 522: 7, 523: 70, 524: 71, 525: 72, 526: 73, 527: 74, 528: 75, 529: 76, 530: 77, 531: 78, 532: 79, 533: 8, 534: 80, 535: 81, 536: 82, 537: 83, 538: 84, 539: 85, 540: 86, 541: 87, 542: 88, 543: 89, 544: 9, 545: 90, 546: 91, 547: 92, 548: 93, 549: 94, 550: 95, 551: 96, 552: 97, 553: 98, 554: 99}\n",
      "{0: 'Tundra Swan', 1: 'Yellow-billed Magpie', 2: 'Verdin', 3: 'Rough-legged Hawk (Light morph)', 4: \"Abert's Towhee\", 5: 'Northern Rough-winged Swallow', 6: 'Red-shouldered Hawk (Immature)', 7: 'Purple Martin (Female/juvenile)', 8: 'Blue Jay', 9: 'Varied Thrush', 10: \"Clark's Grebe\", 11: 'Reddish Egret (White morph)', 12: 'Spotted Sandpiper (Breeding)', 13: 'Dark-eyed Junco (Pink-sided)', 14: 'Western Grebe', 15: 'Little Blue Heron (Immature)', 16: 'Broad-billed Hummingbird (Adult Male)', 17: \"Say's Phoebe\", 18: 'White-crowned Sparrow (Immature)', 19: 'White Ibis (Immature)', 20: 'Western Gull (Adult)', 21: 'California Quail (Male)', 22: 'White-crowned Sparrow (Adult)', 23: 'Ring-necked Duck (Breeding male)', 24: 'Western Tanager (Breeding Male)', 25: \"Bewick's Wren\", 26: 'Northern Pintail (Breeding male)', 27: 'American Pipit', 28: 'Blackpoll Warbler (Female/juvenile)', 29: 'Belted Kingfisher', 30: 'Winter Wren', 31: 'American Black Duck', 32: \"Barrow's Goldeneye (Female/Eclipse male)\", 33: 'Fox Sparrow (Sooty)', 34: 'Purple Martin (Adult male)', 35: 'Brant', 36: 'Wood Duck (Female/Eclipse male)', 37: 'Blue Grosbeak (Female/juvenile)', 38: 'White-tailed Kite', 39: 'American Coot', 40: 'Snow Goose (Blue morph)', 41: 'Great Black-backed Gull (Adult)', 42: 'White-winged Crossbill (Female/juvenile)', 43: \"Anna's Hummingbird (Adult Male)\", 44: 'Ring-necked Pheasant (Female/juvenile)', 45: 'Dark-eyed Junco (Oregon)', 46: 'Snow Bunting (Nonbreeding)', 47: 'Mallard (Breeding male)', 48: 'Ruby-crowned Kinglet', 49: 'Brown-headed Cowbird (Male)', 50: 'Common Yellowthroat (Female/immature male)', 51: 'Gray Jay', 52: 'House Wren', 53: 'Trumpeter Swan', 54: 'Mourning Dove', 55: 'Summer Tanager (Immature Male)', 56: 'Common Loon (Breeding)', 57: 'Common Goldeneye (Breeding male)', 58: 'Black-legged Kittiwake (Immature)', 59: \"Cassin's Finch (Female/immature)\", 60: 'Tennessee Warbler', 61: 'Cactus Wren', 62: 'Evening Grosbeak (Female/Juvenile)', 63: 'Red-necked Grebe (Breeding)', 64: 'Blue-headed Vireo', 65: 'Whimbrel', 66: \"MacGillivray's Warbler\", 67: 'Reddish Egret (Dark morph)', 68: 'American Wigeon (Breeding male)', 69: 'Willet', 70: \"Cassin's Kingbird\", 71: 'Lesser Scaup (Female/Eclipse male)', 72: 'Northern Gannet (Adult, Subadult)', 73: 'Osprey', 74: \"Bonaparte's Gull\", 75: 'Black-throated Blue Warbler (Adult Male)', 76: 'Pacific Loon (Nonbreeding/juvenile)', 77: 'Canvasback (Breeding male)', 78: 'Indigo Bunting (Female/juvenile)', 79: \"Harris's Sparrow (Immature)\", 80: 'Pine Grosbeak (Adult Male)', 81: 'Red-throated Loon (Nonbreeding/juvenile)', 82: 'Marbled Godwit', 83: 'Yellow-throated Warbler', 84: 'Common Raven', 85: \"Steller's Jay\", 86: 'Black-billed Magpie', 87: 'House Finch (Female/immature)', 88: 'Spotted Sandpiper (Nonbreeding/juvenile)', 89: 'Pygmy Nuthatch', 90: 'Eurasian Collared-Dove', 91: \"Brandt's Cormorant\", 92: 'Black-crested Titmouse', 93: 'Long-tailed Duck (Winter male)', 94: 'Swallow-tailed Kite', 95: 'Brown Thrasher', 96: 'Black-chinned Hummingbird (Female, immature)', 97: 'Black-throated Gray Warbler', 98: 'Snowy Owl', 99: 'White-winged Dove', 100: 'Surf Scoter (Female/immature)', 101: 'Red-necked Grebe (Nonbreeding/juvenile)', 102: 'American Tree Sparrow', 103: 'Lesser Goldfinch (Female/juvenile)', 104: 'Northern Flicker (Yellow-shafted)', 105: 'Lark Sparrow', 106: 'Rose-breasted Grosbeak (Adult Male)', 107: 'Northern Gannet (Immature/Juvenile)', 108: 'Yellow-headed Blackbird (Female/Immature Male)', 109: 'Prairie Falcon', 110: 'Dickcissel', 111: 'Warbling Vireo', 112: 'Bay-breasted Warbler (Female, Nonbreeding male, Immature)', 113: 'Roseate Spoonbill', 114: 'Wood Thrush', 115: \"Harris's Hawk\", 116: 'Pacific Wren', 117: 'Eared Grebe (Nonbreeding/juvenile)', 118: 'Least Flycatcher', 119: 'Baltimore Oriole (Female/Immature male)', 120: \"Harris's Sparrow (Adult)\", 121: 'Wood Stork', 122: \"Hutton's Vireo\", 123: 'Glaucous-winged Gull (Immature)', 124: \"Brewer's Blackbird (Female/Juvenile)\", 125: 'Peregrine Falcon (Immature)', 126: 'Black-necked Stilt', 127: 'Glaucous-winged Gull (Adult)', 128: 'Pigeon Guillemot (Breeding)', 129: 'Boreal Chickadee', 130: 'Red-breasted Sapsucker', 131: 'Yellow-rumped Warbler (Breeding Myrtle)', 132: 'Blackburnian Warbler', 133: 'Red-breasted Merganser (Breeding male)', 134: 'Gadwall (Breeding male)', 135: 'Snow Goose (White morph)', 136: 'Barred Owl', 137: 'Common Nighthawk', 138: 'Painted Bunting (Female/juvenile)', 139: \"Costa's Hummingbird (Female, immature)\", 140: \"Townsend's Solitaire\", 141: 'Common Yellowthroat (Adult Male)', 142: 'Bald Eagle (Immature, juvenile)', 143: 'Eastern Screech-Owl', 144: 'Common Grackle', 145: 'Pacific-slope Flycatcher', 146: 'Mountain Chickadee', 147: 'Florida Scrub-Jay', 148: 'Black-and-white Warbler', 149: 'Cordilleran Flycatcher', 150: 'Little Blue Heron (Adult)', 151: 'California Gull (Adult)', 152: 'Evening Grosbeak (Adult Male)', 153: 'Monk Parakeet', 154: 'Great Crested Flycatcher', 155: \"Wilson's Phalarope (Breeding)\", 156: 'Broad-winged Hawk (Adult)', 157: 'Summer Tanager (Adult Male)', 158: 'Burrowing Owl', 159: 'Pyrrhuloxia', 160: \"Nuttall's Woodpecker\", 161: 'Herring Gull (Immature)', 162: 'Bay-breasted Warbler (Breeding male)', 163: 'Surfbird', 164: 'Cape May Warbler', 165: 'Dark-eyed Junco (Red-backed/Gray-headed)', 166: 'Glossy Ibis', 167: 'Band-tailed Pigeon', 168: 'Inca Dove', 169: 'Gila Woodpecker', 170: 'Western Sandpiper', 171: 'Pine Siskin', 172: 'Fox Sparrow (Thick-billed/Slate-colored)', 173: 'Common Gallinule (Immature)', 174: 'Vesper Sparrow', 175: 'White-eyed Vireo', 176: 'Indigo Bunting (Adult Male)', 177: 'Barn Owl', 178: 'Great-tailed Grackle', 179: \"Costa's Hummingbird (Adult Male)\", 180: 'Northern Harrier (Female, immature)', 181: \"Clark's Nutcracker\", 182: 'American Crow', 183: 'Yellow-rumped Warbler (Winter/juvenile Myrtle)', 184: 'Long-billed Curlew', 185: 'Royal Tern', 186: 'Horned Lark', 187: 'Common Gallinule (Adult)', 188: 'Swamp Sparrow', 189: 'White-throated Swift', 190: \"Bell's Vireo\", 191: 'Dunlin (Nonbreeding/juvenile)', 192: 'House Sparrow (Male)', 193: 'Caspian Tern', 194: 'Black-bellied Whistling-Duck', 195: 'American Woodcock', 196: 'Wild Turkey', 197: 'Hooded Oriole (Adult male)', 198: 'Blue Grosbeak (Adult Male)', 199: 'Northern Parula', 200: 'Common Ground-Dove', 201: 'Black-crowned Night-Heron (Immature)', 202: \"Cassin's Vireo\", 203: 'Greater Roadrunner', 204: 'Golden-crowned Sparrow (Adult)', 205: 'Common Eider (Female/juvenile)', 206: 'Canyon Wren', 207: 'Bald Eagle (Adult, subadult)', 208: 'Orange-crowned Warbler', 209: 'Red Crossbill (Female/juvenile)', 210: 'Calliope Hummingbird (Female, immature)', 211: 'Harlequin Duck (Male)', 212: 'Fox Sparrow (Red)', 213: 'Pine Grosbeak (Female/juvenile)', 214: 'Western Bluebird', 215: 'Golden-fronted Woodpecker', 216: 'American Kestrel (Female, immature)', 217: 'Broad-tailed Hummingbird (Female, immature)', 218: 'Purple Gallinule (Adult)', 219: 'Ring-billed Gull (Adult)', 220: 'Chihuahuan Raven', 221: 'Double-crested Cormorant (Immature)', 222: 'Dunlin (Breeding)', 223: 'Common Goldeneye (Female/Eclipse male)', 224: 'Hooded Merganser (Breeding male)', 225: 'Purple Gallinule (Immature)', 226: 'Red-breasted Nuthatch', 227: 'Red-shouldered Hawk (Adult )', 228: 'Northern Shrike', 229: 'Black Guillemot (Nonbreeding, juvenile)', 230: \"Swainson's Thrush\", 231: 'Blackpoll Warbler (Breeding male)', 232: 'Red-headed Woodpecker (Adult)', 233: 'Great Black-backed Gull (Immature)', 234: 'Lazuli Bunting (Adult Male)', 235: 'Pacific Loon (Breeding)', 236: 'Orchard Oriole (Female/Juvenile)', 237: 'European Starling (Breeding Adult)', 238: 'Chestnut-sided Warbler (Female/immature male)', 239: 'Baltimore Oriole (Adult male)', 240: 'Yellow-throated Vireo', 241: 'Painted Bunting (Adult Male)', 242: 'American Redstart (Adult Male)', 243: 'American Robin (Juvenile)', 244: 'Purple Finch (Adult Male)', 245: 'Snow Bunting (Breeding adult)', 246: 'Palm Warbler', 247: 'Chipping Sparrow (Breeding)', 248: 'Red-tailed Hawk (Dark morph)', 249: 'Violet-green Swallow', 250: 'Rock Pigeon', 251: 'Yellow-crowned Night-Heron (Immature)', 252: 'American Dipper', 253: 'European Starling (Nonbreeding Adult)', 254: 'Black Tern', 255: 'Yellow Warbler', 256: 'American Oystercatcher', 257: 'Common Tern', 258: \"Allen's Hummingbird (Female, immature)\", 259: 'Ring-billed Gull (Immature)', 260: 'White-winged Scoter (Female/juvenile)', 261: 'Gadwall (Female/Eclipse male)', 262: 'Black-capped Chickadee', 263: 'California Towhee', 264: 'Western Kingbird', 265: 'Rufous Hummingbird (Adult Male)', 266: 'Black-bellied Plover (Breeding)', 267: 'Tricolored Heron', 268: 'Bushtit', 269: 'Northern Waterthrush', 270: 'Western Screech-Owl', 271: 'Phainopepla (Male)', 272: 'Peregrine Falcon (Adult)', 273: 'Double-crested Cormorant (Adult)', 274: 'Redhead (Breeding male)', 275: 'Red-bellied Woodpecker', 276: 'American Avocet', 277: 'Hooded Oriole (Female/Immature male)', 278: 'Louisiana Waterthrush', 279: 'Horned Grebe (Nonbreeding/juvenile)', 280: 'Yellow-breasted Chat', 281: 'American Robin (Adult)', 282: 'Semipalmated Sandpiper', 283: 'Northern Flicker (Red-shafted)', 284: 'Black-headed Grosbeak (Adult Male)', 285: 'Purple Finch (Female/immature)', 286: 'Turkey Vulture', 287: 'Harlequin Duck (Female/juvenile)', 288: 'Northern Cardinal (Female/Juvenile)', 289: 'Bufflehead (Female/immature male)', 290: 'Cackling Goose', 291: 'California Quail (Female/juvenile)', 292: 'Bobolink (Breeding male)', 293: 'Red-tailed Hawk (Light morph immature)', 294: 'Chipping Sparrow (Immature/nonbreeding adult)', 295: 'Greater Scaup (Breeding male)', 296: 'Dark-eyed Junco (Slate-colored)', 297: 'Canyon Towhee', 298: 'Lark Bunting (Female/Nonbreeding male)', 299: 'Great Horned Owl', 300: 'Wood Duck (Breeding male)', 301: 'Black-chinned Hummingbird (Adult Male)', 302: 'Rusty Blackbird', 303: 'Brown Pelican', 304: 'Brown-headed Cowbird (Female/Juvenile)', 305: 'American Wigeon (Female/Eclipse male)', 306: 'Oak Titmouse', 307: 'White-winged Scoter (Male)', 308: 'Marsh Wren', 309: 'Northern Pintail (Female/Eclipse male)', 310: 'Horned Grebe (Breeding)', 311: 'Chestnut-backed Chickadee', 312: 'Green-winged Teal  (Female/juvenile)', 313: 'Ring-necked Pheasant (Male)', 314: 'Common Redpoll', 315: 'White-winged Crossbill (Adult Male)', 316: \"Brewer's Blackbird (Male)\", 317: 'Barn Swallow', 318: 'Juniper Titmouse', 319: 'Snowy Egret', 320: 'Northwestern Crow', 321: 'Bobolink (Female/juvenile/nonbreeding male)', 322: \"Heermann's Gull (Immature)\", 323: 'Herring Gull (Adult)', 324: 'Bohemian Waxwing', 325: 'Common Eider (Adult male)', 326: 'Blue-gray Gnatcatcher', 327: 'Tufted Titmouse', 328: 'House Sparrow (Female/Juvenile)', 329: 'Black Scoter (Male)', 330: 'Neotropic Cormorant', 331: 'Mountain Bluebird', 332: 'Sharp-shinned Hawk (Adult )', 333: 'Ruddy Duck (Female/juvenile)', 334: 'Hermit Thrush', 335: 'Mallard (Female/Eclipse male)', 336: \"Cooper's Hawk (Immature)\", 337: 'Red-eyed Vireo', 338: 'Black Rosy-Finch', 339: 'Carolina Chickadee', 340: 'Blue-winged Warbler', 341: 'White-faced Ibis', 342: 'Lazuli Bunting (Female/juvenile)', 343: 'Western Meadowlark', 344: 'Great Blue Heron', 345: 'Downy Woodpecker', 346: 'Sharp-shinned Hawk (Immature)', 347: 'Blue-winged Teal  (Female/juvenile)', 348: 'Yellow-headed Blackbird (Adult Male)', 349: \"Wilson's Phalarope (Nonbreeding, juvenile)\", 350: 'Loggerhead Shrike', 351: 'Cinnamon Teal (Male)', 352: \"Vaux's Swift\", 353: 'Golden Eagle (Immature)', 354: 'Long-tailed Duck (Female/juvenile)', 355: 'Ruffed Grouse', 356: 'Scarlet Tanager (Female/Nonbreeding Male)', 357: 'Killdeer', 358: 'Bridled Titmouse', 359: 'Mourning Warbler', 360: \"Ross's Goose\", 361: 'Ruddy Duck (Breeding male)', 362: 'Red Crossbill (Adult Male)', 363: 'Gray-crowned Rosy-Finch', 364: 'Yellow-billed Cuckoo', 365: 'Savannah Sparrow', 366: 'Eastern Meadowlark', 367: 'Bufflehead (Breeding male)', 368: 'Nashville Warbler', 369: 'Black-headed Grosbeak (Female/immature male)', 370: 'Black-throated Blue Warbler (Female/Immature male)', 371: 'Sandhill Crane', 372: 'Wrentit', 373: 'Black-throated Green Warbler', 374: 'Rufous-crowned Sparrow', 375: 'Green Heron', 376: 'Broad-billed Hummingbird (Female, immature)', 377: 'Black Skimmer', 378: 'Prothonotary Warbler', 379: 'Eastern Phoebe', 380: 'Black-tailed Gnatcatcher', 381: 'Northern Pygmy-Owl', 382: 'Black Oystercatcher', 383: 'California Gull (Immature)', 384: 'Black-legged Kittiwake (Adult)', 385: 'Long-tailed Duck (Summer male)', 386: 'Red-winged Blackbird (Female/juvenile)', 387: 'Black Turnstone', 388: \"Swainson's Hawk (Light morph )\", 389: 'Short-billed Dowitcher', 390: 'Golden-crowned Kinglet', 391: 'Prairie Warbler', 392: 'White-throated Sparrow (Tan-striped/immature)', 393: 'Pine Warbler', 394: \"Wilson's Warbler\", 395: 'Pelagic Cormorant', 396: 'Common Merganser (Female/immature male)', 397: 'Ladder-backed Woodpecker', 398: 'Least Sandpiper', 399: 'White Ibis (Adult)', 400: 'Northern Saw-whet Owl', 401: 'Green-tailed Towhee', 402: 'Red-throated Loon (Breeding)', 403: 'Ruddy Turnstone', 404: 'Scarlet Tanager (Breeding Male)', 405: \"Brewer's Sparrow\", 406: 'Hairy Woodpecker', 407: \"Yellow-rumped Warbler (Winter/juvenile Audubon's)\", 408: 'Ring-necked Duck (Female/Eclipse male)', 409: 'Vermilion Flycatcher (Female, immature)', 410: 'Red-breasted Merganser (Female/immature male)', 411: 'Western Scrub-Jay', 412: 'Orchard Oriole (Adult Male)', 413: 'Boat-tailed Grackle', 414: 'Rose-breasted Grosbeak (Female/immature male)', 415: 'Song Sparrow', 416: 'Great Cormorant (Immature)', 417: 'Orchard Oriole (Immature Male)', 418: 'Bronzed Cowbird', 419: 'Great Cormorant (Adult)', 420: 'Calliope Hummingbird (Adult Male)', 421: 'Greater White-fronted Goose', 422: \"Allen's Hummingbird (Adult Male)\", 423: 'Black-bellied Plover (Nonbreeding/juvenile)', 424: \"Gambel's Quail (Female/juvenile)\", 425: 'Eastern Wood-Pewee', 426: 'Western Tanager (Female/Nonbreeding Male)', 427: 'Canada Warbler', 428: 'Golden-crowned Sparrow (Immature)', 429: 'Northern Shoveler (Female/Eclipse male)', 430: 'Cattle Egret', 431: 'Western Gull (Immature)', 432: 'Scaled Quail', 433: 'Tree Swallow', 434: 'Veery', 435: \"Gambel's Quail (Male)\", 436: 'Plumbeous Vireo', 437: 'Crested Caracara', 438: 'Dark-eyed Junco (White-winged)', 439: 'Red-tailed Hawk (Light morph adult)', 440: 'Carolina Wren', 441: \"Anna's Hummingbird (Female, immature)\", 442: 'Pileated Woodpecker', 443: 'Cave Swallow', 444: 'Cedar Waxwing', 445: 'Green-winged Teal (Male)', 446: 'Scissor-tailed Flycatcher', 447: 'Broad-winged Hawk (Immature)', 448: 'Rough-legged Hawk (Dark morph)', 449: \"Barrow's Goldeneye (Breeding male)\", 450: 'American Kestrel (Adult male)', 451: 'Black Vulture', 452: 'American Goldfinch (Breeding Male)', 453: 'Ruby-throated Hummingbird (Adult Male)', 454: 'Brown-headed Nuthatch', 455: \"Swainson's Hawk (Immature)\", 456: 'Great Egret', 457: \"Bullock's Oriole (Female/Immature male)\", 458: 'Solitary Sandpiper', 459: \"Bullock's Oriole (Adult male)\", 460: \"Townsend's Warbler\", 461: 'Pigeon Guillemot (Nonbreeding, juvenile)', 462: 'Curve-billed Thrasher', 463: 'Cliff Swallow', 464: 'Anhinga', 465: 'Chestnut-sided Warbler (Breeding male)', 466: 'Yellow-bellied Sapsucker', 467: 'Greater Scaup (Female/Eclipse male)', 468: 'Northern Harrier (Adult male)', 469: 'Yellow-crowned Night-Heron (Adult)', 470: 'Western Wood-Pewee', 471: 'House Finch (Adult Male)', 472: 'Hermit Warbler', 473: 'Ovenbird', 474: 'Black Phoebe', 475: 'Bank Swallow', 476: 'Northern Shoveler (Breeding male)', 477: 'Common Merganser (Breeding male)', 478: 'American White Pelican', 479: 'Mew Gull', 480: 'Ruddy Duck (Winter male)', 481: 'Black Guillemot (Breeding)', 482: 'Mexican Jay', 483: 'Ash-throated Flycatcher', 484: \"Lincoln's Sparrow\", 485: 'Canvasback (Female/Eclipse male)', 486: 'Gray Catbird', 487: 'Semipalmated Plover', 488: 'Northern Mockingbird', 489: 'European Starling (Juvenile)', 490: \"Cassin's Finch (Adult Male)\", 491: 'Pied-billed Grebe', 492: 'Merlin', 493: 'Rufous Hummingbird (Female, immature)', 494: 'Eared Grebe (Breeding)', 495: \"Heermann's Gull (Adult)\", 496: 'Brown-capped Rosy-Finch', 497: 'Eastern Kingbird', 498: 'Golden Eagle (Adult)', 499: 'Hooded Warbler', 500: 'Acorn Woodpecker', 501: 'Sanderling (Nonbreeding/juvenile)', 502: 'Northern Cardinal (Adult Male)', 503: 'Canada Goose', 504: 'Northern Bobwhite', 505: 'Summer Tanager (Female)', 506: 'Mottled Duck', 507: 'California Thrasher', 508: 'Redhead (Female/Eclipse male)', 509: 'Broad-tailed Hummingbird (Adult Male)', 510: 'Lark Bunting (Breeding male)', 511: 'Magnolia Warbler (Breeding male)', 512: 'White-breasted Nuthatch', 513: 'Phainopepla (Female/juvenile)', 514: 'Blue-winged Teal  (Male)', 515: 'Brown Creeper', 516: 'Red-headed Woodpecker (Immature)', 517: 'Greater Yellowlegs', 518: 'Cinnamon Teal (Female/juvenile)', 519: 'Mute Swan', 520: 'Black Scoter (Female/juvenile)', 521: 'Common Loon (Nonbreeding/juvenile)', 522: 'Hoary Redpoll', 523: 'Eastern Towhee', 524: 'Black-crowned Night-Heron (Adult)', 525: 'Laughing Gull (Nonbreeding/Immature)', 526: 'Fish Crow', 527: \"Cooper's Hawk (Adult)\", 528: 'Red-naped Sapsucker', 529: \"Forster's Tern\", 530: 'Vermilion Flycatcher (Adult male)', 531: 'Lesser Scaup (Breeding male)', 532: 'Laughing Gull (Breeding)', 533: \"Wilson's Snipe\", 534: 'Spotted Towhee', 535: \"Yellow-rumped Warbler (Breeding Audubon's)\", 536: 'Chimney Swift', 537: 'Magnolia Warbler (Female/immature male)', 538: 'Common Eider (Immature/Eclipse male)', 539: 'Eastern Bluebird', 540: 'Clay-colored Sparrow', 541: 'Ruby-throated Hummingbird (Female, immature)', 542: 'Hooded Merganser (Female/immature male)', 543: 'Sanderling (Breeding)', 544: 'Lesser Yellowlegs', 545: 'Field Sparrow', 546: 'Lesser Goldfinch (Adult Male)', 547: 'American Redstart (Female/juvenile)', 548: 'Red-winged Blackbird (Male)', 549: 'American Goldfinch (Female/Nonbreeding Male)', 550: 'Mississippi Kite', 551: \"Swainson's Hawk (Dark morph )\", 552: 'Surf Scoter (Male)', 553: 'White-throated Sparrow (White-striped)', 554: 'Black-billed Cuckoo'}\n"
     ]
    }
   ]
  },
  {
   "cell_type": "code",
   "metadata": {
    "colab": {
     "base_uri": "https://localhost:8080/",
     "height": 149
    },
    "id": "llHSMv7js5yA",
    "outputId": "9bfebb4a-6e2c-4e32-97d9-5b8af3440f82"
   },
   "source": [
    "# dataiter = iter(data['train'])\n",
    "# images, labels = dataiter.next()\n",
    "\n",
    "# multi process\n",
    "dataiter = iter(data['train'])\n",
    "images, labels = next(dataiter)\n",
    "\n",
    "images = images[:8]\n",
    "print(images.size())\n",
    "\n",
    "def imshow(img):\n",
    "    npimg = img.numpy()\n",
    "    plt.imshow(np.transpose(npimg, (1, 2, 0)))\n",
    "    plt.show()\n",
    "\n",
    "# show images\n",
    "imshow(torchvision.utils.make_grid(images))\n",
    "# print labels\n",
    "print(\"Labels:\" + ', '.join('%9s' % data['to_name'][labels[j].item()] for j in range(8)))"
   ],
   "execution_count": 77,
   "outputs": [
    {
     "name": "stdout",
     "output_type": "stream",
     "text": [
      "torch.Size([8, 3, 128, 128])\n"
     ]
    },
    {
     "data": {
      "text/plain": "<Figure size 640x480 with 1 Axes>",
      "image/png": "[encoded data removed]"
     },
     "metadata": {},
     "output_type": "display_data"
    },
    {
     "name": "stdout",
     "output_type": "stream",
     "text": [
      "Labels:Clay-colored Sparrow, Northern Shrike, Red-breasted Nuthatch, House Finch (Adult Male), Black-bellied Plover (Breeding), Dunlin (Breeding), Pigeon Guillemot (Breeding), Hooded Merganser (Breeding male)\n"
     ]
    }
   ]
  },
  {
   "cell_type": "code",
   "metadata": {
    "id": "C5_LglWCs9Iu"
   },
   "source": [
    "def train(net, dataloader, epochs=1, start_epoch=0, lr=0.01, momentum=0.9, decay=0.005,\n",
    "          verbose=1, print_every=10, state=None, schedule={}, checkpoint_path=None):\n",
    "    net.to(device)\n",
    "    net.train()\n",
    "    losses = []\n",
    "    criterion = nn.CrossEntropyLoss()\n",
    "    optimizer = optim.RMSprop(net.parameters(), lr=lr, momentum=momentum, weight_decay=decay)\n",
    "\n",
    "    # Load previous training state\n",
    "    if state:\n",
    "        net.load_state_dict(state['net'])\n",
    "        optimizer.load_state_dict(state['optimizer'])\n",
    "        start_epoch = state['epoch']\n",
    "        losses = state['losses']\n",
    "\n",
    "    # Fast forward lr schedule through already trained epochs\n",
    "    for epoch in range(start_epoch):\n",
    "        if epoch in schedule:\n",
    "            print (\"Learning rate: %f\"% schedule[epoch])\n",
    "            for g in optimizer.param_groups:\n",
    "                g['lr'] = schedule[epoch]\n",
    "\n",
    "    for epoch in range(start_epoch, epochs):\n",
    "        sum_loss = 0.0\n",
    "\n",
    "        # Update learning rate when scheduled\n",
    "        if epoch in schedule:\n",
    "            print (\"Learning rate: %f\"% schedule[epoch])\n",
    "            for g in optimizer.param_groups:\n",
    "                g['lr'] = schedule[epoch]\n",
    "\n",
    "        for i, batch in enumerate(dataloader, 0):\n",
    "            inputs, labels = batch[0].to(device), batch[1].to(device)\n",
    "\n",
    "            optimizer.zero_grad()\n",
    "\n",
    "            outputs = net(inputs)\n",
    "            loss = criterion(outputs, labels)\n",
    "            loss.backward()  # autograd magic, computes all the partial derivatives\n",
    "            optimizer.step() # takes a step in gradient direction\n",
    "\n",
    "            losses.append(loss.item())\n",
    "            sum_loss += loss.item()\n",
    "\n",
    "            if i % print_every == print_every-1:    # print every 10 mini-batches\n",
    "                if verbose:\n",
    "                  print('[%d, %5d] loss: %.3f' % (epoch, i + 1, sum_loss / print_every))\n",
    "                sum_loss = 0.0\n",
    "        if checkpoint_path:\n",
    "            state = {'epoch': epoch+1, 'net': net.state_dict(), 'optimizer': optimizer.state_dict(), 'losses': losses}\n",
    "            torch.save(state, checkpoint_path + 'checkpoint-%d.pkl'%(epoch+1))\n",
    "    return losses"
   ],
   "execution_count": 80,
   "outputs": []
  },
  {
   "cell_type": "code",
   "execution_count": 79,
   "outputs": [
    {
     "data": {
      "text/plain": "['alexnet',\n 'convnext_base',\n 'convnext_large',\n 'convnext_small',\n 'convnext_tiny',\n 'deeplabv3_mobilenet_v3_large',\n 'deeplabv3_resnet101',\n 'deeplabv3_resnet50',\n 'densenet121',\n 'densenet161',\n 'densenet169',\n 'densenet201',\n 'efficientnet_b0',\n 'efficientnet_b1',\n 'efficientnet_b2',\n 'efficientnet_b3',\n 'efficientnet_b4',\n 'efficientnet_b5',\n 'efficientnet_b6',\n 'efficientnet_b7',\n 'efficientnet_v2_l',\n 'efficientnet_v2_m',\n 'efficientnet_v2_s',\n 'fasterrcnn_mobilenet_v3_large_320_fpn',\n 'fasterrcnn_mobilenet_v3_large_fpn',\n 'fasterrcnn_resnet50_fpn',\n 'fasterrcnn_resnet50_fpn_v2',\n 'fcn_resnet101',\n 'fcn_resnet50',\n 'fcos_resnet50_fpn',\n 'googlenet',\n 'inception_v3',\n 'keypointrcnn_resnet50_fpn',\n 'lraspp_mobilenet_v3_large',\n 'maskrcnn_resnet50_fpn',\n 'maskrcnn_resnet50_fpn_v2',\n 'maxvit_t',\n 'mc3_18',\n 'mnasnet0_5',\n 'mnasnet0_75',\n 'mnasnet1_0',\n 'mnasnet1_3',\n 'mobilenet_v2',\n 'mobilenet_v3_large',\n 'mobilenet_v3_small',\n 'mvit_v1_b',\n 'mvit_v2_s',\n 'quantized_googlenet',\n 'quantized_inception_v3',\n 'quantized_mobilenet_v2',\n 'quantized_mobilenet_v3_large',\n 'quantized_resnet18',\n 'quantized_resnet50',\n 'quantized_resnext101_32x8d',\n 'quantized_resnext101_64x4d',\n 'quantized_shufflenet_v2_x0_5',\n 'quantized_shufflenet_v2_x1_0',\n 'quantized_shufflenet_v2_x1_5',\n 'quantized_shufflenet_v2_x2_0',\n 'r2plus1d_18',\n 'r3d_18',\n 'raft_large',\n 'raft_small',\n 'regnet_x_16gf',\n 'regnet_x_1_6gf',\n 'regnet_x_32gf',\n 'regnet_x_3_2gf',\n 'regnet_x_400mf',\n 'regnet_x_800mf',\n 'regnet_x_8gf',\n 'regnet_y_128gf',\n 'regnet_y_16gf',\n 'regnet_y_1_6gf',\n 'regnet_y_32gf',\n 'regnet_y_3_2gf',\n 'regnet_y_400mf',\n 'regnet_y_800mf',\n 'regnet_y_8gf',\n 'resnet101',\n 'resnet152',\n 'resnet18',\n 'resnet34',\n 'resnet50',\n 'resnext101_32x8d',\n 'resnext101_64x4d',\n 'resnext50_32x4d',\n 'retinanet_resnet50_fpn',\n 'retinanet_resnet50_fpn_v2',\n 's3d',\n 'shufflenet_v2_x0_5',\n 'shufflenet_v2_x1_0',\n 'shufflenet_v2_x1_5',\n 'shufflenet_v2_x2_0',\n 'squeezenet1_0',\n 'squeezenet1_1',\n 'ssd300_vgg16',\n 'ssdlite320_mobilenet_v3_large',\n 'swin3d_b',\n 'swin3d_s',\n 'swin3d_t',\n 'swin_b',\n 'swin_s',\n 'swin_t',\n 'swin_v2_b',\n 'swin_v2_s',\n 'swin_v2_t',\n 'vgg11',\n 'vgg11_bn',\n 'vgg13',\n 'vgg13_bn',\n 'vgg16',\n 'vgg16_bn',\n 'vgg19',\n 'vgg19_bn',\n 'vit_b_16',\n 'vit_b_32',\n 'vit_h_14',\n 'vit_l_16',\n 'vit_l_32',\n 'wide_resnet101_2',\n 'wide_resnet50_2']"
     },
     "execution_count": 79,
     "metadata": {},
     "output_type": "execute_result"
    }
   ],
   "source": [
    "models.list_models()"
   ],
   "metadata": {
    "collapsed": false
   }
  },
  {
   "cell_type": "code",
   "metadata": {
    "colab": {
     "base_uri": "https://localhost:8080/",
     "height": 919,
     "referenced_widgets": [
      "aa42b91f801541d3a3b6b56912530128",
      "b7e1acebdea44d31830df5719d5be8b3",
      "c39afd7795c94ca4b2df497db88eae77",
      "409bbf188117406b821237c9c64539c3",
      "f58a6fc240534a00888f52c52ba62cf8",
      "8222d21ef4f046d58f5c401090e31071",
      "b5060355a3444156bf59cef012ecc811",
      "326bb84d585e4b59bccb4cb66a44d5bd",
      "5974701a2d1d41848d7fdf4a868dff59",
      "656430f8f7e8441280e60839b75512df",
      "ffbbd48e9c3a445288c880e4e35d7e2e"
     ]
    },
    "id": "EZ-yKtWUu-OE",
    "outputId": "260ea3a3-9539-4b41-899f-de1d7a1f3936",
    "pycharm": {
     "is_executing": true
    }
   },
   "source": [
    "net = resnet50(weights = ResNet50_Weights)\n",
    "net.fc = nn.Linear(net.fc.in_features, 555)\n",
    "\n",
    "losses = train(net, data['train'], epochs=5, schedule = {0: 0.01, 2: 0.0055, 3: 0.00007},  print_every=50)"
   ],
   "execution_count": null,
   "outputs": [
    {
     "name": "stderr",
     "output_type": "stream",
     "text": [
      "/Users/tanmaycse/Library/Python/3.9/lib/python/site-packages/torchvision/models/_utils.py:223: UserWarning: Arguments other than a weight enum or `None` for 'weights' are deprecated since 0.13 and may be removed in the future. The current behavior is equivalent to passing `weights=ResNet50_Weights.IMAGENET1K_V1`. You can also use `weights=ResNet50_Weights.DEFAULT` to get the most up-to-date weights.\n",
      "  warnings.warn(msg)\n",
      "Downloading: \"https://download.pytorch.org/models/resnet50-0676ba61.pth\" to /Users/tanmaycse/.cache/torch/hub/checkpoints/resnet50-0676ba61.pth\n",
      "100%|██████████| 97.8M/97.8M [00:03<00:00, 28.8MB/s]\n"
     ]
    },
    {
     "name": "stdout",
     "output_type": "stream",
     "text": [
      "Learning rate: 0.010000\n",
      "[0,    50] loss: 10.716\n",
      "[0,   100] loss: 6.345\n",
      "[0,   150] loss: 6.326\n",
      "[0,   200] loss: 6.329\n",
      "[0,   250] loss: 6.329\n",
      "[0,   300] loss: 6.337\n",
      "[1,    50] loss: 6.337\n",
      "[1,   100] loss: 6.351\n",
      "[1,   150] loss: 6.348\n",
      "[1,   200] loss: 6.377\n"
     ]
    }
   ]
  },
  {
   "cell_type": "code",
   "metadata": {
    "colab": {
     "base_uri": "https://localhost:8080/",
     "height": 1000
    },
    "id": "ciUXCJ5LvN1p",
    "outputId": "42c832c6-a0ff-421f-aed7-e51116eaec81",
    "pycharm": {
     "is_executing": true
    }
   },
   "source": [
    "resnet = torch.hub.load('pytorch/vision:v0.6.0', 'resnet18', pretrained=True)\n",
    "resnet.fc = nn.Linear(512, 555) # This will reinitialize the layer as well\n",
    "state = torch.load(checkpoints + 'checkpoint-5.pkl')\n",
    "losses = train(resnet, data['train'], epochs=7, schedule={0:.01, 4:.001}, lr=.01, print_every=10, checkpoint_path=checkpoints, state=state)"
   ],
   "execution_count": null,
   "outputs": []
  },
  {
   "cell_type": "code",
   "metadata": {
    "colab": {
     "base_uri": "https://localhost:8080/",
     "height": 282
    },
    "id": "xVyblLspSFnU",
    "outputId": "5d6769f0-75a5-4786-b442-78ad4c8b7053"
   },
   "source": [
    "def smooth(x, size):\n",
    "  return np.convolve(x, np.ones(size)/size, mode='valid')\n",
    "plt.plot(smooth(losses,50))"
   ],
   "execution_count": null,
   "outputs": [
    {
     "output_type": "execute_result",
     "data": {
      "text/plain": [
       "[<matplotlib.lines.Line2D at 0x7fab5ddc4590>]"
      ]
     },
     "metadata": {
      "tags": []
     },
     "execution_count": 10
    },
    {
     "output_type": "display_data",
     "data": {
      "image/png": "[encoded data removed]",
      "text/plain": [
       "<Figure size 432x288 with 1 Axes>"
      ]
     },
     "metadata": {
      "tags": [],
      "needs_background": "light"
     }
    }
   ]
  },
  {
   "cell_type": "code",
   "metadata": {
    "colab": {
     "base_uri": "https://localhost:8080/",
     "height": 282
    },
    "id": "SBL4BRptyt5v",
    "outputId": "713e8b39-327c-41f0-9237-030774c6f7de"
   },
   "source": [
    "state = torch.load(checkpoints + 'checkpoint-6.pkl')\n",
    "plt.plot(smooth(state['losses'], 50))"
   ],
   "execution_count": null,
   "outputs": [
    {
     "output_type": "execute_result",
     "data": {
      "text/plain": [
       "[<matplotlib.lines.Line2D at 0x7f8a86d32ed0>]"
      ]
     },
     "metadata": {
      "tags": []
     },
     "execution_count": 16
    },
    {
     "output_type": "display_data",
     "data": {
      "image/png": "[encoded data removed]",
      "text/plain": [
       "<Figure size 432x288 with 1 Axes>"
      ]
     },
     "metadata": {
      "tags": [],
      "needs_background": "light"
     }
    }
   ]
  },
  {
   "cell_type": "code",
   "metadata": {
    "id": "YH3jOjwkvAZN"
   },
   "source": [
    "def predict(net, dataloader, ofname):\n",
    "    out = open(ofname, 'w')\n",
    "    out.write(\"path,class\\n\")\n",
    "    net.to(device)\n",
    "    net.eval()\n",
    "    correct = 0\n",
    "    total = 0\n",
    "    with torch.no_grad():\n",
    "        for i, (images, labels) in enumerate(dataloader, 0):\n",
    "            if i%100 == 0:\n",
    "                print(i)\n",
    "            images, labels = images.to(device), labels.to(device)\n",
    "            outputs = net(images)\n",
    "            _, predicted = torch.max(outputs.data, 1)\n",
    "            fname, _ = dataloader.dataset.samples[i]\n",
    "            out.write(\"test/{},{}\\n\".format(fname.split('/')[-1], data['to_class'][predicted.item()]))\n",
    "    out.close()"
   ],
   "execution_count": null,
   "outputs": []
  },
  {
   "cell_type": "code",
   "metadata": {
    "colab": {
     "base_uri": "https://localhost:8080/"
    },
    "id": "n_doagLCS9u0",
    "outputId": "ba09f65f-c665-44bb-a56f-526861483689"
   },
   "source": [
    "# Load model from checkpoint\n",
    "resnet = torch.hub.load('pytorch/vision:v0.6.0', 'resnet18', pretrained=True)\n",
    "resnet.fc = nn.Linear(512, 555) # This will reinitialize the layer as well\n",
    "state = torch.load(checkpoints + 'checkpoint-6.pkl')\n",
    "resnet.load_state_dict(state['net'])\n",
    "\n",
    "\n",
    "predict(resnet, data['test'], checkpoints + \"preds.csv\")"
   ],
   "execution_count": null,
   "outputs": [
    {
     "output_type": "stream",
     "text": [
      "Using cache found in /root/.cache/torch/hub/pytorch_vision_v0.6.0\n"
     ],
     "name": "stderr"
    },
    {
     "output_type": "stream",
     "text": [
      "0\n",
      "100\n",
      "200\n",
      "300\n",
      "400\n",
      "500\n",
      "600\n",
      "700\n",
      "800\n",
      "900\n",
      "1000\n",
      "1100\n",
      "1200\n",
      "1300\n",
      "1400\n",
      "1500\n",
      "1600\n",
      "1700\n",
      "1800\n",
      "1900\n",
      "2000\n",
      "2100\n",
      "2200\n",
      "2300\n",
      "2400\n",
      "2500\n",
      "2600\n",
      "2700\n",
      "2800\n",
      "2900\n",
      "3000\n",
      "3100\n",
      "3200\n",
      "3300\n",
      "3400\n",
      "3500\n",
      "3600\n",
      "3700\n",
      "3800\n",
      "3900\n",
      "4000\n",
      "4100\n",
      "4200\n",
      "4300\n",
      "4400\n",
      "4500\n",
      "4600\n",
      "4700\n",
      "4800\n",
      "4900\n",
      "5000\n",
      "5100\n",
      "5200\n",
      "5300\n",
      "5400\n",
      "5500\n",
      "5600\n",
      "5700\n",
      "5800\n",
      "5900\n",
      "6000\n",
      "6100\n",
      "6200\n",
      "6300\n",
      "6400\n",
      "6500\n",
      "6600\n",
      "6700\n",
      "6800\n",
      "6900\n",
      "7000\n",
      "7100\n",
      "7200\n",
      "7300\n",
      "7400\n",
      "7500\n",
      "7600\n",
      "7700\n",
      "7800\n",
      "7900\n",
      "8000\n",
      "8100\n",
      "8200\n",
      "8300\n",
      "8400\n",
      "8500\n",
      "8600\n",
      "8700\n",
      "8800\n",
      "8900\n",
      "9000\n",
      "9100\n",
      "9200\n",
      "9300\n",
      "9400\n",
      "9500\n",
      "9600\n",
      "9700\n",
      "9800\n",
      "9900\n"
     ],
     "name": "stdout"
    }
   ]
  },
  {
   "cell_type": "markdown",
   "metadata": {
    "id": "F0R91n8l3juL"
   },
   "source": [
    "## Experiments On May 27th"
   ]
  },
  {
   "cell_type": "code",
   "metadata": {
    "id": "OtlE3yL03n5k"
   },
   "source": [
    "# Bigger dataset\n",
    "def get_bird_data(augmentation=0):\n",
    "    transform_train = transforms.Compose([\n",
    "        transforms.Resize(256),\n",
    "        transforms.RandomCrop(256, padding=8, padding_mode='edge'), # Take 256x256 crops from padded images\n",
    "        transforms.RandomHorizontalFlip(),    # 50% of time flip image along y-axis\n",
    "        transforms.ToTensor(),\n",
    "    ])\n",
    "    \n",
    "    transform_test = transforms.Compose([\n",
    "        transforms.Resize(256),\n",
    "        transforms.ToTensor(),\n",
    "    ])\n",
    "    trainset = torchvision.datasets.ImageFolder(root='birds21wi/train', transform=transform_train)\n",
    "    trainloader = torch.utils.data.DataLoader(trainset, batch_size=128, shuffle=True, num_workers=2)\n",
    "\n",
    "    testset = torchvision.datasets.ImageFolder(root='birds21wi/testing', transform=transform_test)\n",
    "    testloader = torch.utils.data.DataLoader(testset, batch_size=1, shuffle=False, num_workers=2)\n",
    "    classes = open(\"birds21wi/names.txt\").read().strip().split(\"\\n\")\n",
    "    class_to_idx = trainset.class_to_idx\n",
    "    idx_to_class = {int(v): int(k) for k, v in class_to_idx.items()}\n",
    "    idx_to_name = {k: classes[v] for k,v in idx_to_class.items()}\n",
    "    return {'train': trainloader, 'test': testloader, 'to_class': idx_to_class, 'to_name':idx_to_name}\n",
    "\n",
    "data = get_bird_data()"
   ],
   "execution_count": null,
   "outputs": []
  },
  {
   "cell_type": "code",
   "metadata": {
    "colab": {
     "base_uri": "https://localhost:8080/"
    },
    "id": "UydlCgpm4oEH",
    "outputId": "d9cc7ab6-6e28-4df9-885b-4cc4a2a0f425"
   },
   "source": [
    "resnet = torch.hub.load('pytorch/vision:v0.6.0', 'resnet18', pretrained=True)\n",
    "resnet.fc = nn.Linear(512, 555) # This will reinitialize the layer as well\n",
    "state = torch.load(checkpoints + 'checkpoint-5.pkl')\n",
    "losses = train(resnet, data['train'], epochs=10, schedule={0:.01, 8:.001}, lr=.01, print_every=10, checkpoint_path=checkpoints, state=state)"
   ],
   "execution_count": null,
   "outputs": [
    {
     "output_type": "stream",
     "text": [
      "Using cache found in /root/.cache/torch/hub/pytorch_vision_v0.6.0\n"
     ],
     "name": "stderr"
    },
    {
     "output_type": "stream",
     "text": [
      "Learning rate: 0.010000\n",
      "[5,    10] loss: 2.194\n",
      "[5,    20] loss: 1.788\n",
      "[5,    30] loss: 1.640\n",
      "[5,    40] loss: 1.571\n",
      "[5,    50] loss: 1.460\n",
      "[5,    60] loss: 1.403\n",
      "[5,    70] loss: 1.317\n",
      "[5,    80] loss: 1.382\n",
      "[5,    90] loss: 1.389\n",
      "[5,   100] loss: 1.285\n",
      "[5,   110] loss: 1.326\n",
      "[5,   120] loss: 1.280\n",
      "[5,   130] loss: 1.257\n",
      "[5,   140] loss: 1.260\n",
      "[5,   150] loss: 1.192\n",
      "[5,   160] loss: 1.254\n",
      "[5,   170] loss: 1.260\n",
      "[5,   180] loss: 1.234\n",
      "[5,   190] loss: 1.188\n",
      "[5,   200] loss: 1.124\n",
      "[5,   210] loss: 1.199\n",
      "[5,   220] loss: 1.186\n",
      "[5,   230] loss: 1.145\n",
      "[5,   240] loss: 1.160\n",
      "[5,   250] loss: 1.172\n",
      "[5,   260] loss: 1.153\n",
      "[5,   270] loss: 1.151\n",
      "[5,   280] loss: 1.152\n",
      "[5,   290] loss: 1.072\n",
      "[5,   300] loss: 1.111\n",
      "[6,    10] loss: 0.942\n",
      "[6,    20] loss: 0.958\n",
      "[6,    30] loss: 0.926\n",
      "[6,    40] loss: 0.988\n",
      "[6,    50] loss: 0.971\n",
      "[6,    60] loss: 0.935\n",
      "[6,    70] loss: 0.964\n",
      "[6,    80] loss: 0.978\n",
      "[6,    90] loss: 0.941\n",
      "[6,   100] loss: 0.947\n",
      "[6,   110] loss: 0.956\n",
      "[6,   120] loss: 0.893\n",
      "[6,   130] loss: 0.939\n",
      "[6,   140] loss: 0.942\n",
      "[6,   150] loss: 0.916\n",
      "[6,   160] loss: 0.900\n",
      "[6,   170] loss: 0.893\n",
      "[6,   180] loss: 0.879\n",
      "[6,   190] loss: 0.967\n",
      "[6,   200] loss: 0.906\n",
      "[6,   210] loss: 0.931\n",
      "[6,   220] loss: 0.869\n",
      "[6,   230] loss: 0.961\n",
      "[6,   240] loss: 0.914\n",
      "[6,   250] loss: 0.872\n",
      "[6,   260] loss: 0.894\n",
      "[6,   270] loss: 0.946\n",
      "[6,   280] loss: 0.943\n",
      "[6,   290] loss: 0.909\n",
      "[6,   300] loss: 0.915\n",
      "[7,    10] loss: 0.769\n",
      "[7,    20] loss: 0.746\n",
      "[7,    30] loss: 0.737\n",
      "[7,    40] loss: 0.755\n",
      "[7,    50] loss: 0.695\n",
      "[7,    60] loss: 0.787\n",
      "[7,    70] loss: 0.765\n",
      "[7,    80] loss: 0.749\n",
      "[7,    90] loss: 0.776\n",
      "[7,   100] loss: 0.725\n",
      "[7,   110] loss: 0.736\n",
      "[7,   120] loss: 0.768\n",
      "[7,   130] loss: 0.780\n",
      "[7,   140] loss: 0.782\n",
      "[7,   150] loss: 0.697\n",
      "[7,   160] loss: 0.738\n",
      "[7,   170] loss: 0.765\n",
      "[7,   180] loss: 0.736\n",
      "[7,   190] loss: 0.758\n",
      "[7,   200] loss: 0.771\n",
      "[7,   210] loss: 0.760\n",
      "[7,   220] loss: 0.714\n",
      "[7,   230] loss: 0.793\n",
      "[7,   240] loss: 0.779\n",
      "[7,   250] loss: 0.799\n",
      "[7,   260] loss: 0.746\n",
      "[7,   270] loss: 0.815\n",
      "[7,   280] loss: 0.827\n",
      "[7,   290] loss: 0.773\n",
      "[7,   300] loss: 0.774\n",
      "Learning rate: 0.001000\n",
      "[8,    10] loss: 0.665\n",
      "[8,    20] loss: 0.632\n",
      "[8,    30] loss: 0.600\n",
      "[8,    40] loss: 0.538\n",
      "[8,    50] loss: 0.574\n",
      "[8,    60] loss: 0.568\n",
      "[8,    70] loss: 0.528\n",
      "[8,    80] loss: 0.561\n",
      "[8,    90] loss: 0.546\n",
      "[8,   100] loss: 0.565\n",
      "[8,   110] loss: 0.573\n",
      "[8,   120] loss: 0.540\n",
      "[8,   130] loss: 0.551\n",
      "[8,   140] loss: 0.519\n",
      "[8,   150] loss: 0.551\n",
      "[8,   160] loss: 0.530\n",
      "[8,   170] loss: 0.556\n",
      "[8,   180] loss: 0.510\n",
      "[8,   190] loss: 0.518\n",
      "[8,   200] loss: 0.539\n",
      "[8,   210] loss: 0.516\n",
      "[8,   220] loss: 0.525\n",
      "[8,   230] loss: 0.481\n",
      "[8,   240] loss: 0.517\n",
      "[8,   250] loss: 0.491\n",
      "[8,   260] loss: 0.536\n",
      "[8,   270] loss: 0.504\n",
      "[8,   280] loss: 0.530\n",
      "[8,   290] loss: 0.513\n",
      "[8,   300] loss: 0.527\n",
      "[9,    10] loss: 0.519\n",
      "[9,    20] loss: 0.489\n",
      "[9,    30] loss: 0.486\n",
      "[9,    40] loss: 0.515\n",
      "[9,    50] loss: 0.494\n",
      "[9,    60] loss: 0.505\n",
      "[9,    70] loss: 0.482\n",
      "[9,    80] loss: 0.494\n",
      "[9,    90] loss: 0.476\n",
      "[9,   100] loss: 0.531\n",
      "[9,   110] loss: 0.462\n",
      "[9,   120] loss: 0.480\n",
      "[9,   130] loss: 0.503\n",
      "[9,   140] loss: 0.474\n",
      "[9,   150] loss: 0.462\n",
      "[9,   160] loss: 0.510\n",
      "[9,   170] loss: 0.496\n",
      "[9,   180] loss: 0.479\n",
      "[9,   190] loss: 0.490\n",
      "[9,   200] loss: 0.455\n",
      "[9,   210] loss: 0.508\n",
      "[9,   220] loss: 0.496\n",
      "[9,   230] loss: 0.499\n",
      "[9,   240] loss: 0.475\n",
      "[9,   250] loss: 0.458\n",
      "[9,   260] loss: 0.468\n",
      "[9,   270] loss: 0.505\n",
      "[9,   280] loss: 0.522\n",
      "[9,   290] loss: 0.456\n",
      "[9,   300] loss: 0.505\n"
     ],
     "name": "stdout"
    }
   ]
  },
  {
   "cell_type": "code",
   "metadata": {
    "colab": {
     "base_uri": "https://localhost:8080/",
     "height": 282
    },
    "id": "i0QBmxsy7LZC",
    "outputId": "25d70bb0-3aea-4a18-b4f7-0a5b64e4800b"
   },
   "source": [
    "state = torch.load(checkpoints + 'checkpoint-7.pkl')\n",
    "plt.plot(smooth(state['losses'], 50))"
   ],
   "execution_count": null,
   "outputs": [
    {
     "output_type": "execute_result",
     "data": {
      "text/plain": [
       "[<matplotlib.lines.Line2D at 0x7fab5e3c00d0>]"
      ]
     },
     "metadata": {
      "tags": []
     },
     "execution_count": 12
    },
    {
     "output_type": "display_data",
     "data": {
      "image/png": "[encoded data removed]",
      "text/plain": [
       "<Figure size 432x288 with 1 Axes>"
      ]
     },
     "metadata": {
      "tags": [],
      "needs_background": "light"
     }
    }
   ]
  },
  {
   "cell_type": "code",
   "metadata": {
    "colab": {
     "base_uri": "https://localhost:8080/",
     "height": 230
    },
    "id": "wLizDa5i7mYv",
    "outputId": "9dc9d969-60c4-4528-c8f2-b15030f7c09a"
   },
   "source": [
    "# Load model from checkpoint\n",
    "resnet = torch.hub.load('pytorch/vision:v0.6.0', 'resnet18', pretrained=True)\n",
    "resnet.fc = nn.Linear(512, 555) # This will reinitialize the layer as well\n",
    "state = torch.load(checkpoints + 'checkpoint-7.pkl')\n",
    "resnet.load_state_dict(state['net'])\n",
    "\n",
    "\n",
    "predict(resnet, data['test'], checkpoints + \"preds.csv\")"
   ],
   "execution_count": null,
   "outputs": [
    {
     "output_type": "error",
     "ename": "NameError",
     "evalue": "ignored",
     "traceback": [
      "\u001B[0;31m---------------------------------------------------------------------------\u001B[0m",
      "\u001B[0;31mNameError\u001B[0m                                 Traceback (most recent call last)",
      "\u001B[0;32m<ipython-input-1-45a27de22815>\u001B[0m in \u001B[0;36m<module>\u001B[0;34m()\u001B[0m\n\u001B[1;32m      1\u001B[0m \u001B[0;31m# Load model from checkpoint\u001B[0m\u001B[0;34m\u001B[0m\u001B[0;34m\u001B[0m\u001B[0;34m\u001B[0m\u001B[0m\n\u001B[0;32m----> 2\u001B[0;31m \u001B[0mresnet\u001B[0m \u001B[0;34m=\u001B[0m \u001B[0mtorch\u001B[0m\u001B[0;34m.\u001B[0m\u001B[0mhub\u001B[0m\u001B[0;34m.\u001B[0m\u001B[0mload\u001B[0m\u001B[0;34m(\u001B[0m\u001B[0;34m'pytorch/vision:v0.6.0'\u001B[0m\u001B[0;34m,\u001B[0m \u001B[0;34m'resnet18'\u001B[0m\u001B[0;34m,\u001B[0m \u001B[0mpretrained\u001B[0m\u001B[0;34m=\u001B[0m\u001B[0;32mTrue\u001B[0m\u001B[0;34m)\u001B[0m\u001B[0;34m\u001B[0m\u001B[0;34m\u001B[0m\u001B[0m\n\u001B[0m\u001B[1;32m      3\u001B[0m \u001B[0mresnet\u001B[0m\u001B[0;34m.\u001B[0m\u001B[0mfc\u001B[0m \u001B[0;34m=\u001B[0m \u001B[0mnn\u001B[0m\u001B[0;34m.\u001B[0m\u001B[0mLinear\u001B[0m\u001B[0;34m(\u001B[0m\u001B[0;36m512\u001B[0m\u001B[0;34m,\u001B[0m \u001B[0;36m555\u001B[0m\u001B[0;34m)\u001B[0m \u001B[0;31m# This will reinitialize the layer as well\u001B[0m\u001B[0;34m\u001B[0m\u001B[0;34m\u001B[0m\u001B[0m\n\u001B[1;32m      4\u001B[0m \u001B[0mstate\u001B[0m \u001B[0;34m=\u001B[0m \u001B[0mtorch\u001B[0m\u001B[0;34m.\u001B[0m\u001B[0mload\u001B[0m\u001B[0;34m(\u001B[0m\u001B[0mcheckpoints\u001B[0m \u001B[0;34m+\u001B[0m \u001B[0;34m'checkpoint-7.pkl'\u001B[0m\u001B[0;34m)\u001B[0m\u001B[0;34m\u001B[0m\u001B[0;34m\u001B[0m\u001B[0m\n\u001B[1;32m      5\u001B[0m \u001B[0mresnet\u001B[0m\u001B[0;34m.\u001B[0m\u001B[0mload_state_dict\u001B[0m\u001B[0;34m(\u001B[0m\u001B[0mstate\u001B[0m\u001B[0;34m[\u001B[0m\u001B[0;34m'net'\u001B[0m\u001B[0;34m]\u001B[0m\u001B[0;34m)\u001B[0m\u001B[0;34m\u001B[0m\u001B[0;34m\u001B[0m\u001B[0m\n",
      "\u001B[0;31mNameError\u001B[0m: name 'torch' is not defined"
     ]
    }
   ]
  }
 ]
}
